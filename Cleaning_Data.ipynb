{
 "cells": [
  {
   "cell_type": "code",
   "execution_count": 1,
   "id": "ee08e323-9af3-4347-adb2-d5476a1e1f93",
   "metadata": {},
   "outputs": [],
   "source": [
    "import pandas as pd\n",
    "import requests\n",
    "import matplotlib.pyplot as plt\n",
    "import seaborn as sns\n",
    "import scipy.stats as stats\n",
    "from scipy.stats import skew, kurtosis, shapiro\n",
    "pd.set_option(\"play.max_rows\", 15)\n",
    "#Dữ liệu thư viện đã được tải lên jupyter dưới dạng csv\n",
    "data = pd.read_csv('C:\\\\Users\\\\phamt\\\\Downloads\\\\7 sf_library.csv')"
   ]
  },
  {
   "cell_type": "code",
   "execution_count": 2,
   "id": "d7193c76-9750-4c19-8e19-36b4b2291f89",
   "metadata": {},
   "outputs": [
    {
     "data": {
      "text/html": [
       "<div>\n",
       "<style scoped>\n",
       "    .dataframe tbody tr th:only-of-type {\n",
       "        vertical-align: middle;\n",
       "    }\n",
       "\n",
       "    .dataframe tbody tr th {\n",
       "        vertical-align: top;\n",
       "    }\n",
       "\n",
       "    .dataframe thead th {\n",
       "        text-align: right;\n",
       "    }\n",
       "</style>\n",
       "<table border=\"1\" class=\"dataframe\">\n",
       "  <thead>\n",
       "    <tr style=\"text-align: right;\">\n",
       "      <th></th>\n",
       "      <th>Patron Type Code</th>\n",
       "      <th>Patron Type Definition</th>\n",
       "      <th>Total Checkouts</th>\n",
       "      <th>Total Renewals</th>\n",
       "      <th>Age Range</th>\n",
       "      <th>Home Library Code</th>\n",
       "      <th>Home Library Definition</th>\n",
       "      <th>Circulation Active Month</th>\n",
       "      <th>Circulation Active Year</th>\n",
       "      <th>Provided Email Address</th>\n",
       "      <th>Year Patron Registered</th>\n",
       "    </tr>\n",
       "  </thead>\n",
       "  <tbody>\n",
       "    <tr>\n",
       "      <th>0</th>\n",
       "      <td>0</td>\n",
       "      <td>Adult</td>\n",
       "      <td>838</td>\n",
       "      <td>382</td>\n",
       "      <td>55 to 59 years</td>\n",
       "      <td>r3</td>\n",
       "      <td>Richmond</td>\n",
       "      <td>Jun</td>\n",
       "      <td>2023.0</td>\n",
       "      <td>True</td>\n",
       "      <td>2003</td>\n",
       "    </tr>\n",
       "    <tr>\n",
       "      <th>1</th>\n",
       "      <td>0</td>\n",
       "      <td>Adult</td>\n",
       "      <td>1</td>\n",
       "      <td>0</td>\n",
       "      <td>25 to 34 years</td>\n",
       "      <td>r3</td>\n",
       "      <td>Richmond</td>\n",
       "      <td>Jun</td>\n",
       "      <td>2023.0</td>\n",
       "      <td>True</td>\n",
       "      <td>2017</td>\n",
       "    </tr>\n",
       "    <tr>\n",
       "      <th>2</th>\n",
       "      <td>0</td>\n",
       "      <td>Adult</td>\n",
       "      <td>1007</td>\n",
       "      <td>528</td>\n",
       "      <td>60 to 64 years</td>\n",
       "      <td>s7</td>\n",
       "      <td>Sunset</td>\n",
       "      <td>Jul</td>\n",
       "      <td>2022.0</td>\n",
       "      <td>True</td>\n",
       "      <td>2003</td>\n",
       "    </tr>\n",
       "    <tr>\n",
       "      <th>3</th>\n",
       "      <td>0</td>\n",
       "      <td>Adult</td>\n",
       "      <td>4806</td>\n",
       "      <td>3981</td>\n",
       "      <td>45 to 54 years</td>\n",
       "      <td>m6</td>\n",
       "      <td>Mission</td>\n",
       "      <td>Jun</td>\n",
       "      <td>2023.0</td>\n",
       "      <td>True</td>\n",
       "      <td>2003</td>\n",
       "    </tr>\n",
       "    <tr>\n",
       "      <th>4</th>\n",
       "      <td>3</td>\n",
       "      <td>Senior</td>\n",
       "      <td>46</td>\n",
       "      <td>27</td>\n",
       "      <td>65 to 74 years</td>\n",
       "      <td>m6</td>\n",
       "      <td>Mission</td>\n",
       "      <td>May</td>\n",
       "      <td>2023.0</td>\n",
       "      <td>True</td>\n",
       "      <td>2019</td>\n",
       "    </tr>\n",
       "    <tr>\n",
       "      <th>...</th>\n",
       "      <td>...</td>\n",
       "      <td>...</td>\n",
       "      <td>...</td>\n",
       "      <td>...</td>\n",
       "      <td>...</td>\n",
       "      <td>...</td>\n",
       "      <td>...</td>\n",
       "      <td>...</td>\n",
       "      <td>...</td>\n",
       "      <td>...</td>\n",
       "      <td>...</td>\n",
       "    </tr>\n",
       "    <tr>\n",
       "      <th>63988</th>\n",
       "      <td>0</td>\n",
       "      <td>Adult</td>\n",
       "      <td>0</td>\n",
       "      <td>0</td>\n",
       "      <td>25 to 34 years</td>\n",
       "      <td>s7</td>\n",
       "      <td>Sunset</td>\n",
       "      <td>Jul</td>\n",
       "      <td>2023.0</td>\n",
       "      <td>True</td>\n",
       "      <td>2023</td>\n",
       "    </tr>\n",
       "    <tr>\n",
       "      <th>63989</th>\n",
       "      <td>2</td>\n",
       "      <td>Teen</td>\n",
       "      <td>424</td>\n",
       "      <td>37</td>\n",
       "      <td>10 to 19 years</td>\n",
       "      <td>s7</td>\n",
       "      <td>Sunset</td>\n",
       "      <td>Jul</td>\n",
       "      <td>2023.0</td>\n",
       "      <td>True</td>\n",
       "      <td>2011</td>\n",
       "    </tr>\n",
       "    <tr>\n",
       "      <th>63990</th>\n",
       "      <td>0</td>\n",
       "      <td>Adult</td>\n",
       "      <td>393</td>\n",
       "      <td>13</td>\n",
       "      <td>10 to 19 years</td>\n",
       "      <td>s7</td>\n",
       "      <td>Sunset</td>\n",
       "      <td>Apr</td>\n",
       "      <td>2022.0</td>\n",
       "      <td>True</td>\n",
       "      <td>2004</td>\n",
       "    </tr>\n",
       "    <tr>\n",
       "      <th>63991</th>\n",
       "      <td>0</td>\n",
       "      <td>Adult</td>\n",
       "      <td>1140</td>\n",
       "      <td>545</td>\n",
       "      <td>10 to 19 years</td>\n",
       "      <td>s7</td>\n",
       "      <td>Sunset</td>\n",
       "      <td>Apr</td>\n",
       "      <td>2021.0</td>\n",
       "      <td>True</td>\n",
       "      <td>2008</td>\n",
       "    </tr>\n",
       "    <tr>\n",
       "      <th>63992</th>\n",
       "      <td>0</td>\n",
       "      <td>Adult</td>\n",
       "      <td>68</td>\n",
       "      <td>51</td>\n",
       "      <td>45 to 54 years</td>\n",
       "      <td>s7</td>\n",
       "      <td>Sunset</td>\n",
       "      <td>May</td>\n",
       "      <td>2023.0</td>\n",
       "      <td>True</td>\n",
       "      <td>2018</td>\n",
       "    </tr>\n",
       "  </tbody>\n",
       "</table>\n",
       "<p>63993 rows × 11 columns</p>\n",
       "</div>"
      ],
      "text/plain": [
       "       Patron Type Code Patron Type Definition  Total Checkouts  \\\n",
       "0                     0                  Adult              838   \n",
       "1                     0                  Adult                1   \n",
       "2                     0                  Adult             1007   \n",
       "3                     0                  Adult             4806   \n",
       "4                     3                 Senior               46   \n",
       "...                 ...                    ...              ...   \n",
       "63988                 0                  Adult                0   \n",
       "63989                 2                   Teen              424   \n",
       "63990                 0                  Adult              393   \n",
       "63991                 0                  Adult             1140   \n",
       "63992                 0                  Adult               68   \n",
       "\n",
       "       Total Renewals       Age Range Home Library Code  \\\n",
       "0                 382  55 to 59 years                r3   \n",
       "1                   0  25 to 34 years                r3   \n",
       "2                 528  60 to 64 years                s7   \n",
       "3                3981  45 to 54 years                m6   \n",
       "4                  27  65 to 74 years                m6   \n",
       "...               ...             ...               ...   \n",
       "63988               0  25 to 34 years                s7   \n",
       "63989              37  10 to 19 years                s7   \n",
       "63990              13  10 to 19 years                s7   \n",
       "63991             545  10 to 19 years                s7   \n",
       "63992              51  45 to 54 years                s7   \n",
       "\n",
       "      Home Library Definition Circulation Active Month  \\\n",
       "0                    Richmond                      Jun   \n",
       "1                    Richmond                      Jun   \n",
       "2                      Sunset                      Jul   \n",
       "3                     Mission                      Jun   \n",
       "4                     Mission                      May   \n",
       "...                       ...                      ...   \n",
       "63988                  Sunset                      Jul   \n",
       "63989                  Sunset                      Jul   \n",
       "63990                  Sunset                      Apr   \n",
       "63991                  Sunset                      Apr   \n",
       "63992                  Sunset                      May   \n",
       "\n",
       "       Circulation Active Year  Provided Email Address  Year Patron Registered  \n",
       "0                       2023.0                    True                    2003  \n",
       "1                       2023.0                    True                    2017  \n",
       "2                       2022.0                    True                    2003  \n",
       "3                       2023.0                    True                    2003  \n",
       "4                       2023.0                    True                    2019  \n",
       "...                        ...                     ...                     ...  \n",
       "63988                   2023.0                    True                    2023  \n",
       "63989                   2023.0                    True                    2011  \n",
       "63990                   2022.0                    True                    2004  \n",
       "63991                   2021.0                    True                    2008  \n",
       "63992                   2023.0                    True                    2018  \n",
       "\n",
       "[63993 rows x 11 columns]"
      ]
     },
     "execution_count": 2,
     "metadata": {},
     "output_type": "execute_result"
    }
   ],
   "source": [
    "data"
   ]
  },
  {
   "cell_type": "code",
   "execution_count": 3,
   "id": "2f159b40-4ced-467a-8ae3-3a3f8092e17a",
   "metadata": {},
   "outputs": [
    {
     "data": {
      "text/plain": [
       "Patron Type Code               0\n",
       "Patron Type Definition         0\n",
       "Total Checkouts                0\n",
       "Total Renewals                 0\n",
       "Age Range                     21\n",
       "Home Library Code              0\n",
       "Home Library Definition        0\n",
       "Circulation Active Month    2540\n",
       "Circulation Active Year     2540\n",
       "Provided Email Address         0\n",
       "Year Patron Registered         0\n",
       "dtype: int64"
      ]
     },
     "execution_count": 3,
     "metadata": {},
     "output_type": "execute_result"
    }
   ],
   "source": [
    "# Kiểm tra giá trị thiếu trong dữ liệu\n",
    "data.isnull().sum()"
   ]
  },
  {
   "cell_type": "code",
   "execution_count": 4,
   "id": "16a45b97-42cd-4041-9216-0b12c2b01c83",
   "metadata": {},
   "outputs": [
    {
     "data": {
      "text/plain": [
       "Patron Type Code            0\n",
       "Patron Type Definition      0\n",
       "Total Checkouts             0\n",
       "Total Renewals              0\n",
       "Age Range                   0\n",
       "Home Library Code           0\n",
       "Home Library Definition     0\n",
       "Circulation Active Month    0\n",
       "Circulation Active Year     0\n",
       "Provided Email Address      0\n",
       "Year Patron Registered      0\n",
       "dtype: int64"
      ]
     },
     "execution_count": 4,
     "metadata": {},
     "output_type": "execute_result"
    }
   ],
   "source": [
    "# Định nghĩa hằng số toàn cục cho các giá trị thiếu\n",
    "AGE_RANGE_DEFAULT = 'Unknown'\n",
    "\n",
    "# Điền giá trị thiếu trong cột 'Age Range' bằng hằng số AGE_RANGE_DEFAULT\n",
    "data['Age Range'] = data['Age Range'].fillna(AGE_RANGE_DEFAULT)\n",
    "\n",
    "# Điền giá trị thiếu trong cột 'Circulation Active Month' bằng \"Most Probable Value\"\n",
    "data['Circulation Active Month'] = data['Circulation Active Month'].fillna(data['Circulation Active Month'].mode()[0])\n",
    "\n",
    "# Điền giá trị thiếu trong cột 'Circulation Active Year' bằng \"Most Probable Value\"\n",
    "data['Circulation Active Year'] = data['Circulation Active Year'].fillna(data['Circulation Active Year'].mode()[0])\n",
    "\n",
    "data.isnull().sum()\n"
   ]
  },
  {
   "cell_type": "code",
   "execution_count": 5,
   "id": "82b578d5-5de2-48a1-9234-6991ea5b858b",
   "metadata": {},
   "outputs": [
    {
     "name": "stdout",
     "output_type": "stream",
     "text": [
      "(63993, 11)\n",
      "Index(['Patron Type Code', 'Patron Type Definition', 'Total Checkouts',\n",
      "       'Total Renewals', 'Age Range', 'Home Library Code',\n",
      "       'Home Library Definition', 'Circulation Active Month',\n",
      "       'Circulation Active Year', 'Provided Email Address',\n",
      "       'Year Patron Registered'],\n",
      "      dtype='object')\n"
     ]
    }
   ],
   "source": [
    "#kích thước của DataFrame\n",
    "print(data.shape)\n",
    "print(data.columns)"
   ]
  },
  {
   "cell_type": "code",
   "execution_count": 6,
   "id": "620e9c26-646c-4b36-bc24-d6c870ef297d",
   "metadata": {},
   "outputs": [
    {
     "name": "stdout",
     "output_type": "stream",
     "text": [
      "Patron Type Code              int64\n",
      "Patron Type Definition       object\n",
      "Total Checkouts               int64\n",
      "Total Renewals                int64\n",
      "Age Range                    object\n",
      "Home Library Code            object\n",
      "Home Library Definition      object\n",
      "Circulation Active Month     object\n",
      "Circulation Active Year     float64\n",
      "Provided Email Address         bool\n",
      "Year Patron Registered        int64\n",
      "dtype: object\n"
     ]
    }
   ],
   "source": [
    "#Kiểu dữ liệu của cột\n",
    "print(data.dtypes)"
   ]
  },
  {
   "cell_type": "code",
   "execution_count": 7,
   "id": "04fe13d5-b8bf-479c-8c49-51b3b49a84ae",
   "metadata": {},
   "outputs": [
    {
     "name": "stdout",
     "output_type": "stream",
     "text": [
      "Patron Type Code             int64\n",
      "Patron Type Definition      object\n",
      "Total Checkouts              int64\n",
      "Total Renewals               int64\n",
      "Age Range                   object\n",
      "Home Library Code           object\n",
      "Home Library Definition     object\n",
      "Circulation Active Month    object\n",
      "Circulation Active Year      int64\n",
      "Provided Email Address        bool\n",
      "Year Patron Registered       int64\n",
      "dtype: object\n"
     ]
    }
   ],
   "source": [
    "# Chuyển đổi kiểu dữ liệu\n",
    "# Chuyển đổi 'Circulation Active Year' thành số nguyên nếu nó chưa phải\n",
    "if not pd.api.types.is_integer_dtype(data['Circulation Active Year']):\n",
    "    data['Circulation Active Year'] = data['Circulation Active Year'].fillna(0).astype(int)\n",
    "\n",
    "\n",
    "\n",
    "# Đảm bảo không có giá trị âm trong các cột 'Total Checkouts' và 'Total Renewals'\n",
    "data['Total Checkouts'] = data['Total Checkouts'].apply(lambda x: x if x >= 0 else 0)\n",
    "data['Total Renewals'] = data['Total Renewals'].apply(lambda x: x if x >= 0 else 0)\n",
    "\n",
    "# Kiểm tra lại kiểu dữ liệu sau khi chuyển đổi\n",
    "print(data.dtypes)"
   ]
  },
  {
   "cell_type": "code",
   "execution_count": 8,
   "id": "81d5b6ee-3a1f-4c9a-955b-79544a96e7e8",
   "metadata": {},
   "outputs": [
    {
     "name": "stdout",
     "output_type": "stream",
     "text": [
      "Unique values in 'Patron Type Definition': 4\n",
      "Unique values in 'Patron Type Definition':\n",
      "['Adult' 'Senior' 'Teen' 'Juvenile']\n",
      "--------------------------------------------------\n",
      "Unique values in 'Age Range': 11\n",
      "Unique values in 'Age Range':\n",
      "['55 to 59 years' '25 to 34 years' '60 to 64 years' '45 to 54 years'\n",
      " '65 to 74 years' '10 to 19 years' '0 to 9 years' '20 to 24 years'\n",
      " '35 to 44 years' '75 years and over' 'Unknown']\n",
      "--------------------------------------------------\n",
      "Unique values in 'Home Library Code': 13\n",
      "Unique values in 'Home Library Code':\n",
      "['r3' 's7' 'm6' 'c2' 'm6aaa' 'm8jaa' 's7j' 'c2aaa' 'm6abu' 'm6j' 'r3aaa'\n",
      " 'r3j' 's7aaa']\n",
      "--------------------------------------------------\n",
      "Unique values in 'Home Library Definition': 4\n",
      "Unique values in 'Home Library Definition':\n",
      "['Richmond' 'Sunset' 'Mission' 'Chinatown']\n",
      "--------------------------------------------------\n",
      "Unique values in 'Circulation Active Month': 12\n",
      "Unique values in 'Circulation Active Month':\n",
      "['Jun' 'Jul' 'May' 'Feb' 'Mar' 'Apr' 'Nov' 'Dec' 'Sep' 'Oct' 'Jan' 'Aug']\n",
      "--------------------------------------------------\n"
     ]
    }
   ],
   "source": [
    "# Kiểm tra các cột kiểu 'object'\n",
    "object_columns = data.select_dtypes(include=['object']).columns\n",
    "\n",
    "# Kiểm tra số lượng giá trị duy nhất trong mỗi cột kiểu 'object'\n",
    "for col in object_columns:\n",
    "    print(f\"Unique values in '{col}': {data[col].nunique()}\")\n",
    "\n",
    "    # In ra các giá trị duy nhất để kiểm tra\n",
    "    print(f\"Unique values in '{col}':\")\n",
    "    print(data[col].unique())\n",
    "    print(\"-\" * 50)\n"
   ]
  },
  {
   "cell_type": "code",
   "execution_count": 9,
   "id": "8af45e96-f71e-4c85-b8d7-dcdea9797e2d",
   "metadata": {},
   "outputs": [],
   "source": [
    "#Thay thế các giá trị không hợp lệ trong 'Age Range' bằng \"Unknown\"\n",
    "valid_age_ranges = ['0 to 9 years', '10 to 19 years', '20 to 24 years', '25 to 34 years', '35 to 44 years', \n",
    "                    '45 to 54 years', '55 to 59 years', '60 to 64 years', '65 to 74 years', '75 years and over']\n",
    "\n",
    "data['Age Range'] = data['Age Range'].apply(lambda x: x if x in valid_age_ranges else 'Unknown')\n",
    "# Thay thế giá trị âm trong 'Total Checkouts' và 'Total Renewals' bằng 0\n",
    "data['Total Checkouts'] = data['Total Checkouts'].apply(lambda x: x if x >= 0 else 0)\n",
    "data['Total Renewals'] = data['Total Renewals'].apply(lambda x: x if x >= 0 else 0)\n",
    "\n",
    "# Thay thế các giá trị không hợp lệ trong 'Circulation Active Month' bằng \"Unknown\"\n",
    "valid_months = ['Jan', 'Feb', 'Mar', 'Apr', 'May', 'Jun', 'Jul', 'Aug', 'Sep', 'Oct', 'Nov', 'Dec']\n",
    "data['Circulation Active Month'] = data['Circulation Active Month'].apply(lambda x: x if x in valid_months else 'Unknown')\n",
    "\n",
    "# Thay thế giá trị âm trong 'Total Checkouts' và 'Total Renewals' bằng 0\n",
    "data['Total Checkouts'] = data['Total Checkouts'].apply(lambda x: x if x >= 0 else 0)\n",
    "data['Total Renewals'] = data['Total Renewals'].apply(lambda x: x if x >= 0 else 0)\n"
   ]
  },
  {
   "cell_type": "code",
   "execution_count": null,
   "id": "26caba57-3a61-406c-84b9-5e3f71917699",
   "metadata": {},
   "outputs": [],
   "source": [
    "\n"
   ]
  },
  {
   "cell_type": "code",
   "execution_count": 10,
   "id": "1a36678a-b866-4175-9f3d-d5d7c1432b0c",
   "metadata": {},
   "outputs": [
    {
     "name": "stdout",
     "output_type": "stream",
     "text": [
      "Checking distribution for column: Total Checkouts\n"
     ]
    },
    {
     "data": {
      "image/png": "[encoded data removed]",
      "text/plain": [
       "<Figure size 1000x400 with 2 Axes>"
      ]
     },
     "metadata": {},
     "output_type": "display_data"
    },
    {
     "name": "stderr",
     "output_type": "stream",
     "text": [
      "D:\\SourceCode\\python\\pythonProject\\.venv\\Lib\\site-packages\\scipy\\stats\\_axis_nan_policy.py:573: UserWarning: scipy.stats.shapiro: For N > 5000, computed p-value may not be accurate. Current N is 63993.\n",
      "  res = hypotest_fun_out(*samples, **kwds)\n"
     ]
    },
    {
     "name": "stdout",
     "output_type": "stream",
     "text": [
      "Shapiro-Wilk test p-value: 6.557330243781156e-156\n",
      "Skewness: 9.437783790521657, Kurtosis: 211.98997859611637\n",
      "-> The column 'Total Checkouts' does NOT follow a normal distribution (Shapiro-Wilk test).\n",
      "--------------------------------------------------\n",
      "Checking distribution for column: Total Renewals\n"
     ]
    },
    {
     "data": {
      "image/png": "[encoded data removed]",
      "text/plain": [
       "<Figure size 1000x400 with 2 Axes>"
      ]
     },
     "metadata": {},
     "output_type": "display_data"
    },
    {
     "name": "stdout",
     "output_type": "stream",
     "text": [
      "Shapiro-Wilk test p-value: 3.23577449289323e-159\n",
      "Skewness: 9.117578462779653, Kurtosis: 126.5083391425166\n",
      "-> The column 'Total Renewals' does NOT follow a normal distribution (Shapiro-Wilk test).\n",
      "--------------------------------------------------\n"
     ]
    }
   ],
   "source": [
    "# Kiểm tra phân phối cho từng cột số\n",
    "columns_to_check = ['Total Checkouts', 'Total Renewals']\n",
    "for column in columns_to_check:\n",
    "    print(f\"Checking distribution for column: {column}\")\n",
    "\n",
    "    # 1. Vẽ histogram\n",
    "    plt.figure(figsize=(10, 4))\n",
    "    plt.subplot(1, 2, 1)\n",
    "    data[column].hist(bins=30)\n",
    "    plt.title(f\"Histogram of {column}\")\n",
    "\n",
    "    # 2. Vẽ Q-Q plot\n",
    "    plt.subplot(1, 2, 2)\n",
    "    stats.probplot(data[column], dist=\"norm\", plot=plt)\n",
    "    plt.title(f\"Q-Q plot of {column}\")\n",
    "    plt.tight_layout()\n",
    "    plt.show()\n",
    "\n",
    "    # 3. Kiểm tra Shapiro-Wilk test\n",
    "    stat, p_value = shapiro(data[column].dropna())  # Loại bỏ NaN để tránh lỗi\n",
    "    print(f\"Shapiro-Wilk test p-value: {p_value}\")\n",
    "\n",
    "    # 4. Tính độ lệch và độ nhọn\n",
    "    skew_value = skew(data[column].dropna())\n",
    "    kurt_value = kurtosis(data[column].dropna())\n",
    "    print(f\"Skewness: {skew_value}, Kurtosis: {kurt_value}\")\n",
    "\n",
    "    # Xem xét kết quả\n",
    "    if p_value < 0.05:\n",
    "        print(f\"-> The column '{column}' does NOT follow a normal distribution (Shapiro-Wilk test).\")\n",
    "    else:\n",
    "        print(f\"-> The column '{column}' may follow a normal distribution (Shapiro-Wilk test).\")\n",
    "\n",
    "    print('-' * 50)"
   ]
  },
  {
   "cell_type": "code",
   "execution_count": 11,
   "id": "8c995c39-a6c8-4fa2-8750-d289a8bef134",
   "metadata": {},
   "outputs": [],
   "source": [
    "# Thay thế ngoại lệ trong 'Total Checkouts' bằng giá trị trung bình\n",
    "Q1 = data['Total Checkouts'].quantile(0.25)\n",
    "Q3 = data['Total Checkouts'].quantile(0.75)\n",
    "IQR = Q3 - Q1\n",
    "lower_bound_checkouts = Q1 - 1.5 * IQR\n",
    "upper_bound_checkouts = Q3 + 1.5 * IQR\n",
    "mean_checkouts = data['Total Checkouts'].mean()\n",
    "\n",
    "data['Total Checkouts'] = data['Total Checkouts'].apply(\n",
    "    lambda x: mean_checkouts if x < lower_bound_checkouts or x > upper_bound_checkouts else x\n",
    ")\n",
    "\n",
    "# Thay thế ngoại lệ trong 'Total Renewals' bằng giá trị trung bình\n",
    "Q1_renewals = data['Total Renewals'].quantile(0.25)\n",
    "Q3_renewals = data['Total Renewals'].quantile(0.75)\n",
    "IQR_renewals = Q3_renewals - Q1_renewals\n",
    "lower_bound_renewals = Q1_renewals - 1.5 * IQR_renewals\n",
    "upper_bound_renewals = Q3_renewals + 1.5 * IQR_renewals\n",
    "mean_renewals = data['Total Renewals'].mean()\n",
    "\n",
    "data['Total Renewals'] = data['Total Renewals'].apply(\n",
    "    lambda x: mean_renewals if x < lower_bound_renewals or x > upper_bound_renewals else x\n",
    ")"
   ]
  },
  {
   "cell_type": "code",
   "execution_count": 12,
   "id": "fce1a607-f989-4895-926a-166f21c5f6e0",
   "metadata": {},
   "outputs": [
    {
     "name": "stdout",
     "output_type": "stream",
     "text": [
      "12646\n"
     ]
    }
   ],
   "source": [
    "# Check for duplicates\n",
    "print(data.duplicated().sum())\n",
    "\n",
    "# Drop duplicates\n",
    "data = data.drop_duplicates()"
   ]
  },
  {
   "cell_type": "code",
   "execution_count": 13,
   "id": "0bccd446-41bb-42b9-b37e-43bef10e9c97",
   "metadata": {},
   "outputs": [
    {
     "name": "stdout",
     "output_type": "stream",
     "text": [
      "       Patron Type Code  Total Checkouts  Total Renewals  \\\n",
      "count             51347            51347           51347   \n",
      "mean                  1               93              37   \n",
      "std                   1              110              45   \n",
      "min                   0                0               0   \n",
      "25%                   0                6               2   \n",
      "50%                   0               38              15   \n",
      "75%                   1              170              65   \n",
      "max                   3              444             167   \n",
      "\n",
      "       Circulation Active Year  Year Patron Registered  \n",
      "count                    51347                   51347  \n",
      "mean                      2022                    2013  \n",
      "std                          2                       6  \n",
      "min                       2004                    2003  \n",
      "25%                       2022                    2009  \n",
      "50%                       2023                    2014  \n",
      "75%                       2023                    2018  \n",
      "max                       2023                    2023  \n"
     ]
    }
   ],
   "source": [
    "\n",
    "stats = data.describe()\n",
    "stats = stats.round(0).astype(int)\n",
    "print(stats)\n"
   ]
  },
  {
   "cell_type": "code",
   "execution_count": 14,
   "id": "109e5502-c185-4add-bd39-b6374bf5a78c",
   "metadata": {},
   "outputs": [
    {
     "name": "stdout",
     "output_type": "stream",
     "text": [
      "After cleaning:\n",
      "   Total Checkouts  Total Renewals Circulation Active Month\n",
      "0       241.465582        108.8307                      Jun\n",
      "1         1.000000          0.0000                      Jun\n",
      "2       241.465582        108.8307                      Jul\n",
      "3       241.465582        108.8307                      Jun\n",
      "4        46.000000         27.0000                      May\n"
     ]
    }
   ],
   "source": [
    "# In ra các kết quả để kiểm tra\n",
    "print(\"After cleaning:\")\n",
    "print(data[['Total Checkouts', 'Total Renewals', 'Circulation Active Month']].head())"
   ]
  },
  {
   "cell_type": "code",
   "execution_count": 15,
   "id": "e6fd789e-28c8-4e77-8299-21a3b32b014c",
   "metadata": {},
   "outputs": [
    {
     "name": "stdout",
     "output_type": "stream",
     "text": [
      "Data types:\n",
      "Patron Type Code            int64\n",
      "Patron Type Definition     object\n",
      "Home Library Code          object\n",
      "Home Library Definition    object\n",
      "Provided Email Address       bool\n",
      "Year Patron Registered      int64\n",
      "dtype: object\n",
      "\n",
      "Missing values (NaN count):\n",
      "Patron Type Code           0\n",
      "Patron Type Definition     0\n",
      "Home Library Code          0\n",
      "Home Library Definition    0\n",
      "Provided Email Address     0\n",
      "Year Patron Registered     0\n",
      "dtype: int64\n",
      "\n",
      "Unique values in each column:\n",
      "Unique values in 'Patron Type Code':\n",
      "[0 3 2 1]\n",
      "--------------------------------------------------\n",
      "Unique values in 'Patron Type Definition':\n",
      "['Adult' 'Senior' 'Teen' 'Juvenile']\n",
      "--------------------------------------------------\n",
      "Unique values in 'Home Library Code':\n",
      "['r3' 's7' 'm6' 'c2' 'm6aaa' 'm8jaa' 's7j' 'c2aaa' 'm6abu' 'm6j' 'r3aaa'\n",
      " 'r3j' 's7aaa']\n",
      "--------------------------------------------------\n",
      "Unique values in 'Home Library Definition':\n",
      "['Richmond' 'Sunset' 'Mission' 'Chinatown']\n",
      "--------------------------------------------------\n",
      "Unique values in 'Provided Email Address':\n",
      "[ True False]\n",
      "--------------------------------------------------\n",
      "Unique values in 'Year Patron Registered':\n",
      "[2003 2017 2019 2022 2023 2021 2013 2014 2011 2018 2015 2020 2016 2012\n",
      " 2010 2008 2006 2009 2007 2004 2005]\n",
      "--------------------------------------------------\n",
      "\n",
      "Unique values in 'Patron Type Code' (check for invalid values):\n",
      "[0 3 2 1]\n",
      "\n",
      "Unique values in 'Year Patron Registered' (check for valid years):\n",
      "[2003 2017 2019 2022 2023 2021 2013 2014 2011 2018 2015 2020 2016 2012\n",
      " 2010 2008 2006 2009 2007 2004 2005]\n",
      "\n",
      "Unique values in 'Provided Email Address' (check for valid email status):\n",
      "[ True False]\n",
      "\n",
      "Unique values in 'Home Library Code' (check for valid library codes):\n",
      "['r3' 's7' 'm6' 'c2' 'm6aaa' 'm8jaa' 's7j' 'c2aaa' 'm6abu' 'm6j' 'r3aaa'\n",
      " 'r3j' 's7aaa']\n"
     ]
    }
   ],
   "source": [
    "# Kiểm tra kiểu dữ liệu của các cột\n",
    "print(\"Data types:\")\n",
    "print(data[['Patron Type Code', 'Patron Type Definition', 'Home Library Code', \n",
    "           'Home Library Definition', 'Provided Email Address', 'Year Patron Registered']].dtypes)\n",
    "\n",
    "# Kiểm tra giá trị thiếu (missing values) trong các cột\n",
    "print(\"\\nMissing values (NaN count):\")\n",
    "print(data[['Patron Type Code', 'Patron Type Definition', 'Home Library Code', \n",
    "           'Home Library Definition', 'Provided Email Address', 'Year Patron Registered']].isnull().sum())\n",
    "\n",
    "# Kiểm tra các giá trị duy nhất trong các cột\n",
    "print(\"\\nUnique values in each column:\")\n",
    "for col in ['Patron Type Code', 'Patron Type Definition', 'Home Library Code', \n",
    "            'Home Library Definition', 'Provided Email Address', 'Year Patron Registered']:\n",
    "    print(f\"Unique values in '{col}':\")\n",
    "    print(data[col].unique())\n",
    "    print(\"-\" * 50)\n",
    "\n",
    "# Kiểm tra các giá trị trong 'Patron Type Code' để xác định xem có giá trị không hợp lệ không\n",
    "print(\"\\nUnique values in 'Patron Type Code' (check for invalid values):\")\n",
    "print(data['Patron Type Code'].unique())\n",
    "\n",
    "# Kiểm tra các giá trị trong 'Year Patron Registered' (năm đăng ký hợp lệ)\n",
    "print(\"\\nUnique values in 'Year Patron Registered' (check for valid years):\")\n",
    "print(data['Year Patron Registered'].unique())\n",
    "\n",
    "# Kiểm tra các giá trị trong 'Provided Email Address' (nếu có giá trị hợp lệ hoặc boolean)\n",
    "print(\"\\nUnique values in 'Provided Email Address' (check for valid email status):\")\n",
    "print(data['Provided Email Address'].unique())\n",
    "\n",
    "# Kiểm tra các giá trị trong 'Home Library Code' (nếu có giá trị hợp lệ)\n",
    "print(\"\\nUnique values in 'Home Library Code' (check for valid library codes):\")\n",
    "print(data['Home Library Code'].unique())\n"
   ]
  },
  {
   "cell_type": "code",
   "execution_count": 16,
   "id": "c5591e9e-d9c4-410e-afc9-fa35f45dd360",
   "metadata": {},
   "outputs": [
    {
     "name": "stdout",
     "output_type": "stream",
     "text": [
      "      Home Library Code Home Library Definition\n",
      "0                    r3                Richmond\n",
      "2                    s7                  Sunset\n",
      "3                    m6                 Mission\n",
      "6                    c2               Chinatown\n",
      "3895              m6aaa                 Mission\n",
      "4950              m8jaa                 Mission\n",
      "5099                s7j                  Sunset\n",
      "7045              c2aaa               Chinatown\n",
      "19582             m6abu                 Mission\n",
      "19583               m6j                 Mission\n",
      "35801             r3aaa                Richmond\n",
      "35803               r3j                Richmond\n",
      "51989             s7aaa                  Sunset\n"
     ]
    }
   ],
   "source": [
    "unique_mapping = data[['Home Library Code', 'Home Library Definition']].drop_duplicates()\n",
    "print(unique_mapping)\n",
    "\n"
   ]
  },
  {
   "cell_type": "code",
   "execution_count": 17,
   "id": "d4e3406d-c128-476c-b0e1-d3bc2d5af744",
   "metadata": {},
   "outputs": [
    {
     "name": "stdout",
     "output_type": "stream",
     "text": [
      "  Home Library Code Home Library Full Name\n",
      "0                r3               Richmond\n",
      "2                s7                 Sunset\n",
      "3                m6                Mission\n",
      "6                c2              Chinatown\n",
      "Empty DataFrame\n",
      "Columns: [Patron Type Code, Patron Type Definition, Total Checkouts, Total Renewals, Age Range, Home Library Code, Home Library Definition, Circulation Active Month, Circulation Active Year, Provided Email Address, Year Patron Registered, Home Library Full Name]\n",
      "Index: []\n"
     ]
    },
    {
     "name": "stderr",
     "output_type": "stream",
     "text": [
      "C:\\Users\\phamt\\AppData\\Local\\Temp\\ipykernel_22180\\3245554579.py:16: SettingWithCopyWarning: \n",
      "A value is trying to be set on a copy of a slice from a DataFrame.\n",
      "Try using .loc[row_indexer,col_indexer] = value instead\n",
      "\n",
      "See the caveats in the documentation: https://pandas.pydata.org/pandas-docs/stable/user_guide/indexing.html#returning-a-view-versus-a-copy\n",
      "  data.loc[:, 'Home Library Full Name'] = data['Home Library Code'].map(library_mapping)\n"
     ]
    }
   ],
   "source": [
    "# Bảng ánh xạ giữa mã thư viện và tên thư viện\n",
    "library_mapping = {\n",
    "    'r3': 'Richmond',\n",
    "    's7': 'Sunset',\n",
    "    'm6': 'Mission',\n",
    "    'c2': 'Chinatown'\n",
    "}\n",
    "\n",
    "# Bước 1: Chuẩn hóa mã thư viện, thay thế 'm8jaa' thành 'm6' (hoặc bạn có thể xử lý thêm các mã khác nếu cần)\n",
    "data.loc[:, 'Home Library Code'] = data['Home Library Code'].replace({'m8jaa': 'm6'})\n",
    "\n",
    "# Bước 2: Chuẩn hóa cột Home Library Code (chuyển về chữ thường để thống nhất)\n",
    "data.loc[:, 'Home Library Code'] = data['Home Library Code'].str.lower()\n",
    "\n",
    "# Ánh xạ mã thư viện thành tên thư viện đầy đủ\n",
    "data.loc[:, 'Home Library Full Name'] = data['Home Library Code'].map(library_mapping)\n",
    "\n",
    "# Xử lý các giá trị không hợp lệ (nếu có)\n",
    "data.loc[:, 'Home Library Full Name'] = data['Home Library Full Name'].fillna('Unknown')\n",
    "\n",
    "# Bước 5: Nếu bạn muốn chỉ giữ lại các mã hợp lệ (r3, s7, m6, c2)\n",
    "valid_codes = ['r3', 's7', 'm6', 'c2']\n",
    "data = data[data['Home Library Code'].isin(valid_codes)]\n",
    "\n",
    "# In kết quả\n",
    "print(data[['Home Library Code', 'Home Library Full Name']].drop_duplicates())\n",
    "\n",
    "# Kiểm tra các giá trị không hợp lệ\n",
    "print(data[data['Home Library Full Name'] == 'Unknown'])"
   ]
  },
  {
   "cell_type": "code",
   "execution_count": 18,
   "id": "fc866e7c-d665-4bdb-b104-8cf1244f8d60",
   "metadata": {},
   "outputs": [
    {
     "name": "stdout",
     "output_type": "stream",
     "text": [
      "['55 to 59 years' '25 to 34 years' '60 to 64 years' '45 to 54 years'\n",
      " '65 to 74 years' '10 to 19 years' '0 to 9 years' '20 to 24 years'\n",
      " '35 to 44 years' '75 years and over' 'Unknown']\n"
     ]
    }
   ],
   "source": [
    "# Kiểm tra các giá trị trong cột 'Age Range'\n",
    "print(data['Age Range'].unique())\n"
   ]
  },
  {
   "cell_type": "code",
   "execution_count": 19,
   "id": "43ec052e-f976-4f31-a4b8-e20e31c64522",
   "metadata": {},
   "outputs": [
    {
     "name": "stdout",
     "output_type": "stream",
     "text": [
      "            Age Range  Normalized Age  Z-Score Age\n",
      "0      55 to 59 years            57.0     0.999019\n",
      "1      25 to 34 years            30.0    -0.358629\n",
      "2      60 to 64 years            62.0     1.250435\n",
      "3      45 to 54 years            50.0     0.647036\n",
      "4      65 to 74 years            70.0     1.652701\n",
      "...               ...             ...          ...\n",
      "63987  55 to 59 years            57.0     0.999019\n",
      "63989  10 to 19 years            15.0    -1.112877\n",
      "63990  10 to 19 years            15.0    -1.112877\n",
      "63991  10 to 19 years            15.0    -1.112877\n",
      "63992  45 to 54 years            50.0     0.647036\n",
      "\n",
      "[51298 rows x 3 columns]\n"
     ]
    }
   ],
   "source": [
    "# Định nghĩa danh sách các khoảng tuổi hợp lệ\n",
    "valid_age_ranges = ['0 to 9 years', '10 to 19 years', '20 to 24 years', '25 to 34 years', \n",
    "                    '35 to 44 years', '45 to 54 years', '55 to 59 years', '60 to 64 years', \n",
    "                    '65 to 74 years', '75 years and over']\n",
    "\n",
    "# Định nghĩa hàm chuẩn hóa\n",
    "def normalize_age_range(age_range):\n",
    "    if age_range == 'Unknown':\n",
    "        return None  # Nếu là 'Unknown' thì trả về None hoặc có thể thay đổi theo yêu cầu\n",
    "    \n",
    "    # Tạo từ điển ánh xạ khoảng tuổi sang giá trị số trung bình của nhóm tuổi\n",
    "    age_mapping = {\n",
    "        '0 to 9 years': 5, \n",
    "        '10 to 19 years': 15, \n",
    "        '20 to 24 years': 22, \n",
    "        '25 to 34 years': 30,\n",
    "        '35 to 44 years': 40, \n",
    "        '45 to 54 years': 50, \n",
    "        '55 to 59 years': 57, \n",
    "        '60 to 64 years': 62, \n",
    "        '65 to 74 years': 70, \n",
    "        '75 years and over': 75\n",
    "    }\n",
    "    \n",
    "    # Trả về giá trị đã chuẩn hóa\n",
    "    return age_mapping.get(age_range, None)  # Nếu không khớp với nhóm tuổi nào thì trả về None\n",
    "\n",
    "# Áp dụng chuẩn hóa cho cột 'Age Range'\n",
    "data['Normalized Age'] = data['Age Range'].apply(normalize_age_range)\n",
    "\n",
    "# Loại bỏ các dòng có 'Unknown' để tránh ảnh hưởng đến việc tính Z-score\n",
    "data = data[data['Normalized Age'].notna()]\n",
    "\n",
    "# Tính Z-score cho cột 'Normalized Age'\n",
    "mean_age = data['Normalized Age'].mean()  # Tính giá trị trung bình\n",
    "std_age = data['Normalized Age'].std()  # Tính độ lệch chuẩn\n",
    "\n",
    "# Áp dụng công thức Z-score\n",
    "data['Z-Score Age'] = (data['Normalized Age'] - mean_age) / std_age\n",
    "\n",
    "# Hiển thị kết quả\n",
    "print(data[['Age Range', 'Normalized Age', 'Z-Score Age']])"
   ]
  },
  {
   "cell_type": "code",
   "execution_count": 21,
   "id": "ef210fef-d101-489b-85cb-382d48abbed0",
   "metadata": {
    "editable": true,
    "slideshow": {
     "slide_type": ""
    },
    "tags": []
   },
   "outputs": [],
   "source": [
    "data.to_csv(\"C:\\\\Users\\\\phamt\\\\Downloads\\\\cleaning_data.csv\", index=False)  # Lưu dưới dạng CSV"
   ]
  }
 ],
 "metadata": {
  "kernelspec": {
   "display_name": "Python 3 (ipykernel)",
   "language": "python",
   "name": "python3"
  },
  "language_info": {
   "codemirror_mode": {
    "name": "ipython",
    "version": 3
   },
   "file_extension": ".py",
   "mimetype": "text/x-python",
   "name": "python",
   "nbconvert_exporter": "python",
   "pygments_lexer": "ipython3",
   "version": "3.12.5"
  }
 },
 "nbformat": 4,
 "nbformat_minor": 5
}
